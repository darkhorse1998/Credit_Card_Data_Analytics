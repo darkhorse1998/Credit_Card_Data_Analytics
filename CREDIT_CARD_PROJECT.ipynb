{
  "nbformat": 4,
  "nbformat_minor": 0,
  "metadata": {
    "colab": {
      "name": "creditCard_actual.ipynb",
      "provenance": [],
      "collapsed_sections": [
        "r3MSFW5WvU2a",
        "uZxRd_DDvei6",
        "aQ6oHHbWvpqk",
        "hDRf7HiW5eDi",
        "1v7S8s7461sR",
        "5oS_E40B87CA",
        "QTXPvVcgIEfA",
        "IJ67Br44IJdt",
        "6qrdNtIfgG-F",
        "UWalN1i3ffh1",
        "mKtLdY9Mm4d9"
      ]
    },
    "kernelspec": {
      "name": "python3",
      "display_name": "Python 3"
    }
  },
  "cells": [
    {
      "cell_type": "markdown",
      "metadata": {
        "id": "r3MSFW5WvU2a",
        "colab_type": "text"
      },
      "source": [
        "# Importing Required Libraries"
      ]
    },
    {
      "cell_type": "code",
      "metadata": {
        "id": "dsL7uET4Fcaa",
        "colab_type": "code",
        "colab": {}
      },
      "source": [
        "import pandas as pd\n",
        "import numpy as np\n",
        "import matplotlib.pyplot as plt\n",
        "import seaborn as sns\n",
        "from sklearn.linear_model import LassoCV\n",
        "\n",
        "%matplotlib inline\n",
        "plt.style.use('ggplot')"
      ],
      "execution_count": 0,
      "outputs": []
    },
    {
      "cell_type": "markdown",
      "metadata": {
        "id": "uZxRd_DDvei6",
        "colab_type": "text"
      },
      "source": [
        "# Getting the Data"
      ]
    },
    {
      "cell_type": "code",
      "metadata": {
        "id": "i-nfkSon0lvo",
        "colab_type": "code",
        "colab": {}
      },
      "source": [
        "orig_data = pd.read_excel(\"data.xlsx\")"
      ],
      "execution_count": 0,
      "outputs": []
    },
    {
      "cell_type": "code",
      "metadata": {
        "id": "70DRzmrT0q22",
        "colab_type": "code",
        "colab": {}
      },
      "source": [
        "#keeping a copy\n",
        "data = orig_data.copy()"
      ],
      "execution_count": 0,
      "outputs": []
    },
    {
      "cell_type": "markdown",
      "metadata": {
        "id": "aQ6oHHbWvpqk",
        "colab_type": "text"
      },
      "source": [
        "# Data Stats"
      ]
    },
    {
      "cell_type": "code",
      "metadata": {
        "id": "XAdyS6jlyOUy",
        "colab_type": "code",
        "colab": {
          "base_uri": "https://localhost:8080/",
          "height": 0
        },
        "outputId": "768c3f51-8fcd-4f49-aad7-638f2caf98ea"
      },
      "source": [
        "print(\"Shape of the Data: {}\".format(data.shape))"
      ],
      "execution_count": 760,
      "outputs": [
        {
          "output_type": "stream",
          "text": [
            "Shape of the Data: (1000, 18)\n"
          ],
          "name": "stdout"
        }
      ]
    },
    {
      "cell_type": "code",
      "metadata": {
        "id": "mJlbNFAty5wV",
        "colab_type": "code",
        "colab": {
          "base_uri": "https://localhost:8080/",
          "height": 0
        },
        "outputId": "f4d28c65-8da7-4a02-f9b4-dfaed15f49a8"
      },
      "source": [
        "data.columns"
      ],
      "execution_count": 761,
      "outputs": [
        {
          "output_type": "execute_result",
          "data": {
            "text/plain": [
              "Index(['Application id', 'first_name', 'last_name', 'email', 'gender',\n",
              "       'address', 'age', 'tdecision', 'empstaus', 'ExCus (Customer in Past)',\n",
              "       'Source', 'Salary', 'ExDebt (Liability)', 'Booking', 'INT_ID',\n",
              "       'Prev_ID', 'AGT_ID', 'Booking_Amt'],\n",
              "      dtype='object')"
            ]
          },
          "metadata": {
            "tags": []
          },
          "execution_count": 761
        }
      ]
    },
    {
      "cell_type": "code",
      "metadata": {
        "id": "rg1doaHo03Od",
        "colab_type": "code",
        "colab": {
          "base_uri": "https://localhost:8080/",
          "height": 0
        },
        "outputId": "f195ed74-9012-490c-bcbc-49d7875faa82"
      },
      "source": [
        "data.head()"
      ],
      "execution_count": 762,
      "outputs": [
        {
          "output_type": "execute_result",
          "data": {
            "text/html": [
              "<div>\n",
              "<style scoped>\n",
              "    .dataframe tbody tr th:only-of-type {\n",
              "        vertical-align: middle;\n",
              "    }\n",
              "\n",
              "    .dataframe tbody tr th {\n",
              "        vertical-align: top;\n",
              "    }\n",
              "\n",
              "    .dataframe thead th {\n",
              "        text-align: right;\n",
              "    }\n",
              "</style>\n",
              "<table border=\"1\" class=\"dataframe\">\n",
              "  <thead>\n",
              "    <tr style=\"text-align: right;\">\n",
              "      <th></th>\n",
              "      <th>Application id</th>\n",
              "      <th>first_name</th>\n",
              "      <th>last_name</th>\n",
              "      <th>email</th>\n",
              "      <th>gender</th>\n",
              "      <th>address</th>\n",
              "      <th>age</th>\n",
              "      <th>tdecision</th>\n",
              "      <th>empstaus</th>\n",
              "      <th>ExCus (Customer in Past)</th>\n",
              "      <th>Source</th>\n",
              "      <th>Salary</th>\n",
              "      <th>ExDebt (Liability)</th>\n",
              "      <th>Booking</th>\n",
              "      <th>INT_ID</th>\n",
              "      <th>Prev_ID</th>\n",
              "      <th>AGT_ID</th>\n",
              "      <th>Booking_Amt</th>\n",
              "    </tr>\n",
              "  </thead>\n",
              "  <tbody>\n",
              "    <tr>\n",
              "      <th>0</th>\n",
              "      <td>1</td>\n",
              "      <td>Dollie</td>\n",
              "      <td>Scafe</td>\n",
              "      <td>dscafe0@is.gd</td>\n",
              "      <td>Female</td>\n",
              "      <td>02 Garrison Pass</td>\n",
              "      <td>34</td>\n",
              "      <td>Pending</td>\n",
              "      <td>SE</td>\n",
              "      <td>Y</td>\n",
              "      <td>EC</td>\n",
              "      <td>127110</td>\n",
              "      <td>25130</td>\n",
              "      <td>NaN</td>\n",
              "      <td>6869736235</td>\n",
              "      <td>79-489-1539</td>\n",
              "      <td>Mozilla/5.0 (Macintosh; U; Intel Mac OS X 10_6...</td>\n",
              "      <td>NaN</td>\n",
              "    </tr>\n",
              "    <tr>\n",
              "      <th>1</th>\n",
              "      <td>2</td>\n",
              "      <td>Austin</td>\n",
              "      <td>Pennycook</td>\n",
              "      <td>apennycook1@mac.com</td>\n",
              "      <td>Male</td>\n",
              "      <td>007 Miller Road</td>\n",
              "      <td>57</td>\n",
              "      <td>Approve</td>\n",
              "      <td>SE</td>\n",
              "      <td>Y</td>\n",
              "      <td>D</td>\n",
              "      <td>464039</td>\n",
              "      <td>22311</td>\n",
              "      <td>Y</td>\n",
              "      <td>9694176212</td>\n",
              "      <td>92-247-0058</td>\n",
              "      <td>Mozilla/5.0 (Windows; U; Windows NT 5.1; zh-TW...</td>\n",
              "      <td>278423.4</td>\n",
              "    </tr>\n",
              "    <tr>\n",
              "      <th>2</th>\n",
              "      <td>3</td>\n",
              "      <td>Mareah</td>\n",
              "      <td>Tomanek</td>\n",
              "      <td>mtomanek2@bloomberg.com</td>\n",
              "      <td>Female</td>\n",
              "      <td>145 Charing Cross Junction</td>\n",
              "      <td>57</td>\n",
              "      <td>Approve</td>\n",
              "      <td>SE</td>\n",
              "      <td>Y</td>\n",
              "      <td>3P</td>\n",
              "      <td>584420</td>\n",
              "      <td>28557</td>\n",
              "      <td>Y</td>\n",
              "      <td>152387684</td>\n",
              "      <td>36-236-3028</td>\n",
              "      <td>Mozilla/5.0 (Windows NT 5.1; rv:21.0) Gecko/20...</td>\n",
              "      <td>350652.0</td>\n",
              "    </tr>\n",
              "    <tr>\n",
              "      <th>3</th>\n",
              "      <td>4</td>\n",
              "      <td>Myrna</td>\n",
              "      <td>Rosenthaler</td>\n",
              "      <td>mrosenthaler3@dmoz.org</td>\n",
              "      <td>Female</td>\n",
              "      <td>268 Algoma Hill</td>\n",
              "      <td>59</td>\n",
              "      <td>Approve</td>\n",
              "      <td>SE</td>\n",
              "      <td>Y</td>\n",
              "      <td>3P</td>\n",
              "      <td>583781</td>\n",
              "      <td>26042</td>\n",
              "      <td>Y</td>\n",
              "      <td>6510396556</td>\n",
              "      <td>34-339-0917</td>\n",
              "      <td>Mozilla/5.0 (Windows; U; Windows NT 6.1; cs-CZ...</td>\n",
              "      <td>350268.6</td>\n",
              "    </tr>\n",
              "    <tr>\n",
              "      <th>4</th>\n",
              "      <td>5</td>\n",
              "      <td>Danyette</td>\n",
              "      <td>Stempe</td>\n",
              "      <td>dstempe4@tumblr.com</td>\n",
              "      <td>Female</td>\n",
              "      <td>571 Stone Corner Park</td>\n",
              "      <td>51</td>\n",
              "      <td>Approve</td>\n",
              "      <td>SE</td>\n",
              "      <td>N</td>\n",
              "      <td>MP</td>\n",
              "      <td>551718</td>\n",
              "      <td>27892</td>\n",
              "      <td>Y</td>\n",
              "      <td>7141853006</td>\n",
              "      <td>94-098-8902</td>\n",
              "      <td>Mozilla/5.0 (iPhone; U; CPU iPhone OS 4_2_1 li...</td>\n",
              "      <td>331030.8</td>\n",
              "    </tr>\n",
              "  </tbody>\n",
              "</table>\n",
              "</div>"
            ],
            "text/plain": [
              "   Application id  ... Booking_Amt\n",
              "0               1  ...         NaN\n",
              "1               2  ...    278423.4\n",
              "2               3  ...    350652.0\n",
              "3               4  ...    350268.6\n",
              "4               5  ...    331030.8\n",
              "\n",
              "[5 rows x 18 columns]"
            ]
          },
          "metadata": {
            "tags": []
          },
          "execution_count": 762
        }
      ]
    },
    {
      "cell_type": "code",
      "metadata": {
        "id": "MvDOK-0O4YtT",
        "colab_type": "code",
        "colab": {}
      },
      "source": [
        "#data.columns"
      ],
      "execution_count": 0,
      "outputs": []
    },
    {
      "cell_type": "code",
      "metadata": {
        "id": "dsuVkoxZ09We",
        "colab_type": "code",
        "colab": {}
      },
      "source": [
        "data_cols=data.columns"
      ],
      "execution_count": 0,
      "outputs": []
    },
    {
      "cell_type": "code",
      "metadata": {
        "id": "AdUrDzyzvzjp",
        "colab_type": "code",
        "colab": {
          "base_uri": "https://localhost:8080/",
          "height": 0
        },
        "outputId": "e7e90809-5e5b-421d-892a-bdfdb21d8a60"
      },
      "source": [
        "data.info()"
      ],
      "execution_count": 765,
      "outputs": [
        {
          "output_type": "stream",
          "text": [
            "<class 'pandas.core.frame.DataFrame'>\n",
            "RangeIndex: 1000 entries, 0 to 999\n",
            "Data columns (total 18 columns):\n",
            " #   Column                    Non-Null Count  Dtype  \n",
            "---  ------                    --------------  -----  \n",
            " 0   Application id            1000 non-null   int64  \n",
            " 1   first_name                1000 non-null   object \n",
            " 2   last_name                 1000 non-null   object \n",
            " 3   email                     1000 non-null   object \n",
            " 4   gender                    1000 non-null   object \n",
            " 5   address                   1000 non-null   object \n",
            " 6   age                       1000 non-null   int64  \n",
            " 7   tdecision                 1000 non-null   object \n",
            " 8   empstaus                  1000 non-null   object \n",
            " 9   ExCus (Customer in Past)  1000 non-null   object \n",
            " 10  Source                    1000 non-null   object \n",
            " 11  Salary                    1000 non-null   int64  \n",
            " 12  ExDebt (Liability)        1000 non-null   int64  \n",
            " 13  Booking                   699 non-null    object \n",
            " 14  INT_ID                    1000 non-null   int64  \n",
            " 15  Prev_ID                   1000 non-null   object \n",
            " 16  AGT_ID                    1000 non-null   object \n",
            " 17  Booking_Amt               699 non-null    float64\n",
            "dtypes: float64(1), int64(5), object(12)\n",
            "memory usage: 140.8+ KB\n"
          ],
          "name": "stdout"
        }
      ]
    },
    {
      "cell_type": "code",
      "metadata": {
        "id": "-MGFyTsYv3px",
        "colab_type": "code",
        "colab": {
          "base_uri": "https://localhost:8080/",
          "height": 0
        },
        "outputId": "605d509d-8fc9-4e7e-9eab-026f82bca544"
      },
      "source": [
        "data.describe()"
      ],
      "execution_count": 766,
      "outputs": [
        {
          "output_type": "execute_result",
          "data": {
            "text/html": [
              "<div>\n",
              "<style scoped>\n",
              "    .dataframe tbody tr th:only-of-type {\n",
              "        vertical-align: middle;\n",
              "    }\n",
              "\n",
              "    .dataframe tbody tr th {\n",
              "        vertical-align: top;\n",
              "    }\n",
              "\n",
              "    .dataframe thead th {\n",
              "        text-align: right;\n",
              "    }\n",
              "</style>\n",
              "<table border=\"1\" class=\"dataframe\">\n",
              "  <thead>\n",
              "    <tr style=\"text-align: right;\">\n",
              "      <th></th>\n",
              "      <th>Application id</th>\n",
              "      <th>age</th>\n",
              "      <th>Salary</th>\n",
              "      <th>ExDebt (Liability)</th>\n",
              "      <th>INT_ID</th>\n",
              "      <th>Booking_Amt</th>\n",
              "    </tr>\n",
              "  </thead>\n",
              "  <tbody>\n",
              "    <tr>\n",
              "      <th>count</th>\n",
              "      <td>1000.000000</td>\n",
              "      <td>1000.000000</td>\n",
              "      <td>1000.000000</td>\n",
              "      <td>1000.000000</td>\n",
              "      <td>1.000000e+03</td>\n",
              "      <td>699.000000</td>\n",
              "    </tr>\n",
              "    <tr>\n",
              "      <th>mean</th>\n",
              "      <td>500.500000</td>\n",
              "      <td>43.993000</td>\n",
              "      <td>300965.584000</td>\n",
              "      <td>25719.898000</td>\n",
              "      <td>4.991688e+09</td>\n",
              "      <td>363096.037339</td>\n",
              "    </tr>\n",
              "    <tr>\n",
              "      <th>std</th>\n",
              "      <td>288.819436</td>\n",
              "      <td>12.199827</td>\n",
              "      <td>174484.016951</td>\n",
              "      <td>2728.736685</td>\n",
              "      <td>2.902731e+09</td>\n",
              "      <td>192897.386823</td>\n",
              "    </tr>\n",
              "    <tr>\n",
              "      <th>min</th>\n",
              "      <td>1.000000</td>\n",
              "      <td>20.000000</td>\n",
              "      <td>1473.000000</td>\n",
              "      <td>21002.000000</td>\n",
              "      <td>1.788664e+07</td>\n",
              "      <td>47470.500000</td>\n",
              "    </tr>\n",
              "    <tr>\n",
              "      <th>25%</th>\n",
              "      <td>250.750000</td>\n",
              "      <td>33.000000</td>\n",
              "      <td>147630.000000</td>\n",
              "      <td>23461.000000</td>\n",
              "      <td>2.500389e+09</td>\n",
              "      <td>212743.200000</td>\n",
              "    </tr>\n",
              "    <tr>\n",
              "      <th>50%</th>\n",
              "      <td>500.500000</td>\n",
              "      <td>47.000000</td>\n",
              "      <td>299657.500000</td>\n",
              "      <td>25782.500000</td>\n",
              "      <td>5.018401e+09</td>\n",
              "      <td>326617.200000</td>\n",
              "    </tr>\n",
              "    <tr>\n",
              "      <th>75%</th>\n",
              "      <td>750.250000</td>\n",
              "      <td>55.000000</td>\n",
              "      <td>452421.500000</td>\n",
              "      <td>28073.500000</td>\n",
              "      <td>7.439011e+09</td>\n",
              "      <td>490002.000000</td>\n",
              "    </tr>\n",
              "    <tr>\n",
              "      <th>max</th>\n",
              "      <td>1000.000000</td>\n",
              "      <td>60.000000</td>\n",
              "      <td>597399.000000</td>\n",
              "      <td>30453.000000</td>\n",
              "      <td>9.995180e+09</td>\n",
              "      <td>894333.000000</td>\n",
              "    </tr>\n",
              "  </tbody>\n",
              "</table>\n",
              "</div>"
            ],
            "text/plain": [
              "       Application id          age  ...        INT_ID    Booking_Amt\n",
              "count     1000.000000  1000.000000  ...  1.000000e+03     699.000000\n",
              "mean       500.500000    43.993000  ...  4.991688e+09  363096.037339\n",
              "std        288.819436    12.199827  ...  2.902731e+09  192897.386823\n",
              "min          1.000000    20.000000  ...  1.788664e+07   47470.500000\n",
              "25%        250.750000    33.000000  ...  2.500389e+09  212743.200000\n",
              "50%        500.500000    47.000000  ...  5.018401e+09  326617.200000\n",
              "75%        750.250000    55.000000  ...  7.439011e+09  490002.000000\n",
              "max       1000.000000    60.000000  ...  9.995180e+09  894333.000000\n",
              "\n",
              "[8 rows x 6 columns]"
            ]
          },
          "metadata": {
            "tags": []
          },
          "execution_count": 766
        }
      ]
    },
    {
      "cell_type": "code",
      "metadata": {
        "id": "4ECONavM6Fha",
        "colab_type": "code",
        "colab": {
          "base_uri": "https://localhost:8080/",
          "height": 0
        },
        "outputId": "376ca9cf-e407-4fd8-881b-eb20a5a643db"
      },
      "source": [
        "data.isna().sum()"
      ],
      "execution_count": 767,
      "outputs": [
        {
          "output_type": "execute_result",
          "data": {
            "text/plain": [
              "Application id                0\n",
              "first_name                    0\n",
              "last_name                     0\n",
              "email                         0\n",
              "gender                        0\n",
              "address                       0\n",
              "age                           0\n",
              "tdecision                     0\n",
              "empstaus                      0\n",
              "ExCus (Customer in Past)      0\n",
              "Source                        0\n",
              "Salary                        0\n",
              "ExDebt (Liability)            0\n",
              "Booking                     301\n",
              "INT_ID                        0\n",
              "Prev_ID                       0\n",
              "AGT_ID                        0\n",
              "Booking_Amt                 301\n",
              "dtype: int64"
            ]
          },
          "metadata": {
            "tags": []
          },
          "execution_count": 767
        }
      ]
    },
    {
      "cell_type": "markdown",
      "metadata": {
        "id": "hDRf7HiW5eDi",
        "colab_type": "text"
      },
      "source": [
        "### Checking for Duplicate entries in Application id"
      ]
    },
    {
      "cell_type": "code",
      "metadata": {
        "id": "8rqdq88G2QsJ",
        "colab_type": "code",
        "colab": {
          "base_uri": "https://localhost:8080/",
          "height": 0
        },
        "outputId": "4fedf24f-50ef-4faa-a27f-5ede7b0a26cb"
      },
      "source": [
        "any(data.duplicated(subset=\"Application id\"))"
      ],
      "execution_count": 768,
      "outputs": [
        {
          "output_type": "execute_result",
          "data": {
            "text/plain": [
              "False"
            ]
          },
          "metadata": {
            "tags": []
          },
          "execution_count": 768
        }
      ]
    },
    {
      "cell_type": "code",
      "metadata": {
        "id": "VC89FCNf2xbG",
        "colab_type": "code",
        "colab": {
          "base_uri": "https://localhost:8080/",
          "height": 0
        },
        "outputId": "160b033e-d22a-45bf-ceb9-7f9b173b3f5b"
      },
      "source": [
        "data.dtypes"
      ],
      "execution_count": 769,
      "outputs": [
        {
          "output_type": "execute_result",
          "data": {
            "text/plain": [
              "Application id                int64\n",
              "first_name                   object\n",
              "last_name                    object\n",
              "email                        object\n",
              "gender                       object\n",
              "address                      object\n",
              "age                           int64\n",
              "tdecision                    object\n",
              "empstaus                     object\n",
              "ExCus (Customer in Past)     object\n",
              "Source                       object\n",
              "Salary                        int64\n",
              "ExDebt (Liability)            int64\n",
              "Booking                      object\n",
              "INT_ID                        int64\n",
              "Prev_ID                      object\n",
              "AGT_ID                       object\n",
              "Booking_Amt                 float64\n",
              "dtype: object"
            ]
          },
          "metadata": {
            "tags": []
          },
          "execution_count": 769
        }
      ]
    },
    {
      "cell_type": "code",
      "metadata": {
        "id": "XcPy-weA1DuG",
        "colab_type": "code",
        "colab": {}
      },
      "source": [
        "data.drop(['Application id','first_name', 'last_name', 'email','address','INT_ID','Prev_ID', 'AGT_ID'], axis=1,inplace=True)"
      ],
      "execution_count": 0,
      "outputs": []
    },
    {
      "cell_type": "code",
      "metadata": {
        "id": "7BYWAHZp1YUm",
        "colab_type": "code",
        "colab": {
          "base_uri": "https://localhost:8080/",
          "height": 0
        },
        "outputId": "7dd56209-5a4d-4013-e36d-ccd35730eca3"
      },
      "source": [
        "data.head()"
      ],
      "execution_count": 771,
      "outputs": [
        {
          "output_type": "execute_result",
          "data": {
            "text/html": [
              "<div>\n",
              "<style scoped>\n",
              "    .dataframe tbody tr th:only-of-type {\n",
              "        vertical-align: middle;\n",
              "    }\n",
              "\n",
              "    .dataframe tbody tr th {\n",
              "        vertical-align: top;\n",
              "    }\n",
              "\n",
              "    .dataframe thead th {\n",
              "        text-align: right;\n",
              "    }\n",
              "</style>\n",
              "<table border=\"1\" class=\"dataframe\">\n",
              "  <thead>\n",
              "    <tr style=\"text-align: right;\">\n",
              "      <th></th>\n",
              "      <th>gender</th>\n",
              "      <th>age</th>\n",
              "      <th>tdecision</th>\n",
              "      <th>empstaus</th>\n",
              "      <th>ExCus (Customer in Past)</th>\n",
              "      <th>Source</th>\n",
              "      <th>Salary</th>\n",
              "      <th>ExDebt (Liability)</th>\n",
              "      <th>Booking</th>\n",
              "      <th>Booking_Amt</th>\n",
              "    </tr>\n",
              "  </thead>\n",
              "  <tbody>\n",
              "    <tr>\n",
              "      <th>0</th>\n",
              "      <td>Female</td>\n",
              "      <td>34</td>\n",
              "      <td>Pending</td>\n",
              "      <td>SE</td>\n",
              "      <td>Y</td>\n",
              "      <td>EC</td>\n",
              "      <td>127110</td>\n",
              "      <td>25130</td>\n",
              "      <td>NaN</td>\n",
              "      <td>NaN</td>\n",
              "    </tr>\n",
              "    <tr>\n",
              "      <th>1</th>\n",
              "      <td>Male</td>\n",
              "      <td>57</td>\n",
              "      <td>Approve</td>\n",
              "      <td>SE</td>\n",
              "      <td>Y</td>\n",
              "      <td>D</td>\n",
              "      <td>464039</td>\n",
              "      <td>22311</td>\n",
              "      <td>Y</td>\n",
              "      <td>278423.4</td>\n",
              "    </tr>\n",
              "    <tr>\n",
              "      <th>2</th>\n",
              "      <td>Female</td>\n",
              "      <td>57</td>\n",
              "      <td>Approve</td>\n",
              "      <td>SE</td>\n",
              "      <td>Y</td>\n",
              "      <td>3P</td>\n",
              "      <td>584420</td>\n",
              "      <td>28557</td>\n",
              "      <td>Y</td>\n",
              "      <td>350652.0</td>\n",
              "    </tr>\n",
              "    <tr>\n",
              "      <th>3</th>\n",
              "      <td>Female</td>\n",
              "      <td>59</td>\n",
              "      <td>Approve</td>\n",
              "      <td>SE</td>\n",
              "      <td>Y</td>\n",
              "      <td>3P</td>\n",
              "      <td>583781</td>\n",
              "      <td>26042</td>\n",
              "      <td>Y</td>\n",
              "      <td>350268.6</td>\n",
              "    </tr>\n",
              "    <tr>\n",
              "      <th>4</th>\n",
              "      <td>Female</td>\n",
              "      <td>51</td>\n",
              "      <td>Approve</td>\n",
              "      <td>SE</td>\n",
              "      <td>N</td>\n",
              "      <td>MP</td>\n",
              "      <td>551718</td>\n",
              "      <td>27892</td>\n",
              "      <td>Y</td>\n",
              "      <td>331030.8</td>\n",
              "    </tr>\n",
              "  </tbody>\n",
              "</table>\n",
              "</div>"
            ],
            "text/plain": [
              "   gender  age tdecision  ... ExDebt (Liability) Booking Booking_Amt\n",
              "0  Female   34   Pending  ...              25130     NaN         NaN\n",
              "1    Male   57   Approve  ...              22311       Y    278423.4\n",
              "2  Female   57   Approve  ...              28557       Y    350652.0\n",
              "3  Female   59   Approve  ...              26042       Y    350268.6\n",
              "4  Female   51   Approve  ...              27892       Y    331030.8\n",
              "\n",
              "[5 rows x 10 columns]"
            ]
          },
          "metadata": {
            "tags": []
          },
          "execution_count": 771
        }
      ]
    },
    {
      "cell_type": "markdown",
      "metadata": {
        "id": "1v7S8s7461sR",
        "colab_type": "text"
      },
      "source": [
        "### Extracting the Pending cases"
      ]
    },
    {
      "cell_type": "code",
      "metadata": {
        "id": "APOacmPjFbAu",
        "colab_type": "code",
        "colab": {
          "base_uri": "https://localhost:8080/",
          "height": 0
        },
        "outputId": "55cbccf2-6796-4fd6-92e9-ae5f34fc0d6d"
      },
      "source": [
        "plt.figure(figsize=(10,7))\n",
        "ax = sns.countplot(data['tdecision'])\n",
        "for p in ax.patches:\n",
        "        ax.annotate('{}'.format(p.get_height()), (p.get_x()+0.35, p.get_height()+10))\n",
        "plt.title(\"Credit Card Status\", fontsize=20)\n",
        "plt.tight_layout()\n",
        "plt.show()\n"
      ],
      "execution_count": 772,
      "outputs": [
        {
          "output_type": "display_data",
          "data": {
            "image/png": "[encoded data removed]",
            "text/plain": [
              "<Figure size 720x504 with 1 Axes>"
            ]
          },
          "metadata": {
            "tags": []
          }
        }
      ]
    },
    {
      "cell_type": "code",
      "metadata": {
        "id": "0Dc51tiq1aIe",
        "colab_type": "code",
        "colab": {}
      },
      "source": [
        "pending_cases = data[data[\"tdecision\"].isin([\"Pending\"])]"
      ],
      "execution_count": 0,
      "outputs": []
    },
    {
      "cell_type": "code",
      "metadata": {
        "id": "q0gQPlWZulcc",
        "colab_type": "code",
        "colab": {
          "base_uri": "https://localhost:8080/",
          "height": 0
        },
        "outputId": "3e29ea51-58a7-4e84-f882-21663b9f9052"
      },
      "source": [
        "pending_cases['Source'].value_counts()"
      ],
      "execution_count": 774,
      "outputs": [
        {
          "output_type": "execute_result",
          "data": {
            "text/plain": [
              "EC    88\n",
              "Name: Source, dtype: int64"
            ]
          },
          "metadata": {
            "tags": []
          },
          "execution_count": 774
        }
      ]
    },
    {
      "cell_type": "code",
      "metadata": {
        "id": "omRLzjJW6gqH",
        "colab_type": "code",
        "colab": {}
      },
      "source": [
        "#pending_cases.shape"
      ],
      "execution_count": 0,
      "outputs": []
    },
    {
      "cell_type": "code",
      "metadata": {
        "id": "QPhlQ2r-7a7B",
        "colab_type": "code",
        "colab": {}
      },
      "source": [
        "#data.shape"
      ],
      "execution_count": 0,
      "outputs": []
    },
    {
      "cell_type": "code",
      "metadata": {
        "id": "j_VjwbRb6iuR",
        "colab_type": "code",
        "colab": {}
      },
      "source": [
        "data.drop(data[data[\"tdecision\"]==\"Pending\"].index,axis=0,inplace=True)"
      ],
      "execution_count": 0,
      "outputs": []
    },
    {
      "cell_type": "code",
      "metadata": {
        "id": "ALNIXxnm7E1g",
        "colab_type": "code",
        "colab": {}
      },
      "source": [
        "#data.shape\n",
        "#checking shape"
      ],
      "execution_count": 0,
      "outputs": []
    },
    {
      "cell_type": "markdown",
      "metadata": {
        "id": "5oS_E40B87CA",
        "colab_type": "text"
      },
      "source": [
        "# EDA"
      ]
    },
    {
      "cell_type": "markdown",
      "metadata": {
        "id": "QTXPvVcgIEfA",
        "colab_type": "text"
      },
      "source": [
        "### Categorical Data"
      ]
    },
    {
      "cell_type": "code",
      "metadata": {
        "id": "ov-VQyn_7Y-X",
        "colab_type": "code",
        "colab": {
          "base_uri": "https://localhost:8080/",
          "height": 0
        },
        "outputId": "1365ff82-cf25-4b94-ca93-160ddc361439"
      },
      "source": [
        "f,ax = plt.subplots(2,2,figsize=(14,9))\n",
        "plt.suptitle(\"Plots of Categorical Data wrt Approve/Decline\", fontsize=20)\n",
        "sns.countplot(x=\"gender\",hue=\"tdecision\", data=data,ax=ax[0,0])\n",
        "sns.countplot(x=\"empstaus\",hue=\"tdecision\", data=data,ax=ax[0,1])\n",
        "sns.countplot(x=\"ExCus (Customer in Past)\",hue=\"tdecision\", data=data,ax=ax[1,0])\n",
        "sns.countplot(x=\"Source\",hue=\"tdecision\", data=data,ax=ax[1,1])\n",
        "plt.legend(loc='upper right')\n",
        "plt.tight_layout(rect=[0, 0.03, 1, 0.95])\n",
        "plt.show()"
      ],
      "execution_count": 779,
      "outputs": [
        {
          "output_type": "display_data",
          "data": {
            "image/png": "[encoded data removed]",
            "text/plain": [
              "<Figure size 1008x648 with 4 Axes>"
            ]
          },
          "metadata": {
            "tags": []
          }
        }
      ]
    },
    {
      "cell_type": "code",
      "metadata": {
        "id": "Yl8ycIyr-1VT",
        "colab_type": "code",
        "colab": {
          "base_uri": "https://localhost:8080/",
          "height": 0
        },
        "outputId": "9538dafd-a4d6-476a-f427-f5982dccea47"
      },
      "source": [
        "filter1 = data[\"Source\"].isin([\"EC\"])\n",
        "filter2 = data[\"tdecision\"].isin([\"Decline\"])\n",
        "fil = data[filter1 & filter2]\n",
        "fil"
      ],
      "execution_count": 780,
      "outputs": [
        {
          "output_type": "execute_result",
          "data": {
            "text/html": [
              "<div>\n",
              "<style scoped>\n",
              "    .dataframe tbody tr th:only-of-type {\n",
              "        vertical-align: middle;\n",
              "    }\n",
              "\n",
              "    .dataframe tbody tr th {\n",
              "        vertical-align: top;\n",
              "    }\n",
              "\n",
              "    .dataframe thead th {\n",
              "        text-align: right;\n",
              "    }\n",
              "</style>\n",
              "<table border=\"1\" class=\"dataframe\">\n",
              "  <thead>\n",
              "    <tr style=\"text-align: right;\">\n",
              "      <th></th>\n",
              "      <th>gender</th>\n",
              "      <th>age</th>\n",
              "      <th>tdecision</th>\n",
              "      <th>empstaus</th>\n",
              "      <th>ExCus (Customer in Past)</th>\n",
              "      <th>Source</th>\n",
              "      <th>Salary</th>\n",
              "      <th>ExDebt (Liability)</th>\n",
              "      <th>Booking</th>\n",
              "      <th>Booking_Amt</th>\n",
              "    </tr>\n",
              "  </thead>\n",
              "  <tbody>\n",
              "  </tbody>\n",
              "</table>\n",
              "</div>"
            ],
            "text/plain": [
              "Empty DataFrame\n",
              "Columns: [gender, age, tdecision, empstaus, ExCus (Customer in Past), Source, Salary, ExDebt (Liability), Booking, Booking_Amt]\n",
              "Index: []"
            ]
          },
          "metadata": {
            "tags": []
          },
          "execution_count": 780
        }
      ]
    },
    {
      "cell_type": "markdown",
      "metadata": {
        "id": "IJ67Br44IJdt",
        "colab_type": "text"
      },
      "source": [
        "### Numerical Data"
      ]
    },
    {
      "cell_type": "code",
      "metadata": {
        "id": "We_-iMM5_Njx",
        "colab_type": "code",
        "colab": {}
      },
      "source": [
        "corr = data.corr()"
      ],
      "execution_count": 0,
      "outputs": []
    },
    {
      "cell_type": "code",
      "metadata": {
        "id": "Z-DtL7X4INz0",
        "colab_type": "code",
        "colab": {
          "base_uri": "https://localhost:8080/",
          "height": 0
        },
        "outputId": "262db6d4-8251-49ff-8993-3f87d65b7c93"
      },
      "source": [
        "plt.figure(figsize=(15,8))\n",
        "mask = np.zeros_like(corr)\n",
        "mask[np.triu_indices_from(mask)] = True\n",
        "sns.heatmap(corr,annot=True,mask=mask,square=True,vmax=1)\n",
        "plt.title(\"Correlation Plot\", fontsize=20)\n",
        "plt.show()"
      ],
      "execution_count": 782,
      "outputs": [
        {
          "output_type": "display_data",
          "data": {
            "image/png": "[encoded data removed]",
            "text/plain": [
              "<Figure size 1080x576 with 2 Axes>"
            ]
          },
          "metadata": {
            "tags": []
          }
        }
      ]
    },
    {
      "cell_type": "code",
      "metadata": {
        "id": "aUobo5tEJ_J1",
        "colab_type": "code",
        "colab": {
          "base_uri": "https://localhost:8080/",
          "height": 0
        },
        "outputId": "4d34056c-1e91-427f-93ad-e71993da919a"
      },
      "source": [
        "plt.figure(figsize=(12,7))\n",
        "sns.violinplot(x=data[\"gender\"],y=data[\"Salary\"],hue=data[\"tdecision\"], split=True, palette = \"Set1\")\n",
        "plt.title(\"Gender vs Salary wrt Aprove/Decline\",fontsize=20)\n",
        "plt.show()"
      ],
      "execution_count": 783,
      "outputs": [
        {
          "output_type": "display_data",
          "data": {
            "image/png": "[encoded data removed]",
            "text/plain": [
              "<Figure size 864x504 with 1 Axes>"
            ]
          },
          "metadata": {
            "tags": []
          }
        }
      ]
    },
    {
      "cell_type": "code",
      "metadata": {
        "id": "jjrNNv_dXaUJ",
        "colab_type": "code",
        "colab": {
          "base_uri": "https://localhost:8080/",
          "height": 0
        },
        "outputId": "fe14735f-8022-4d10-cce6-e3b21d8b35d6"
      },
      "source": [
        "male = data[data['gender']==\"Male\"]\n",
        "female = data[data['gender']==\"Female\"]\n",
        "f2,ax2 = plt.subplots(2,1,figsize=(10,5))\n",
        "sns.boxplot(male['Salary'],ax=ax2[0])\n",
        "sns.boxplot(female['Salary'],ax=ax2[1])\n",
        "plt.suptitle(\"Distribution of Salaries to Male and Female\", fontsize=20)\n",
        "plt.show()\n",
        "\n",
        "#This shows that there are more number of women than men with higher Salary"
      ],
      "execution_count": 784,
      "outputs": [
        {
          "output_type": "display_data",
          "data": {
            "image/png": "[encoded data removed]",
            "text/plain": [
              "<Figure size 720x360 with 2 Axes>"
            ]
          },
          "metadata": {
            "tags": []
          }
        }
      ]
    },
    {
      "cell_type": "code",
      "metadata": {
        "id": "PoGOa5QkSK6X",
        "colab_type": "code",
        "colab": {
          "base_uri": "https://localhost:8080/",
          "height": 0
        },
        "outputId": "c2457f46-6ddc-4b4a-8ecc-f5199cad2fdb"
      },
      "source": [
        "plt.figure(figsize=(12,7))\n",
        "sns.violinplot(x=data[\"gender\"],y=data[\"age\"],hue=data[\"tdecision\"], split=True, palette='Set1')\n",
        "plt.title(\"Gender vs Age wrt Aprove/Decline\",fontsize=20)\n",
        "plt.show()"
      ],
      "execution_count": 785,
      "outputs": [
        {
          "output_type": "display_data",
          "data": {
            "image/png": "[encoded data removed]",
            "text/plain": [
              "<Figure size 864x504 with 1 Axes>"
            ]
          },
          "metadata": {
            "tags": []
          }
        }
      ]
    },
    {
      "cell_type": "code",
      "metadata": {
        "id": "8mERsn_xTO9Z",
        "colab_type": "code",
        "colab": {
          "base_uri": "https://localhost:8080/",
          "height": 0
        },
        "outputId": "aecb1006-7343-474e-baff-8988aafa4267"
      },
      "source": [
        "plt.figure(figsize=(12,7))\n",
        "sns.violinplot(x=data[\"gender\"],y=data[\"ExDebt (Liability)\"],hue=data[\"tdecision\"], split=True, palette='Set1')\n",
        "plt.title(\"Gender vs Liability wrt Aprove/Decline\",fontsize=20)\n",
        "plt.show()"
      ],
      "execution_count": 786,
      "outputs": [
        {
          "output_type": "display_data",
          "data": {
            "image/png": "[encoded data removed]",
            "text/plain": [
              "<Figure size 864x504 with 1 Axes>"
            ]
          },
          "metadata": {
            "tags": []
          }
        }
      ]
    },
    {
      "cell_type": "code",
      "metadata": {
        "id": "u9gAR6T6TUX2",
        "colab_type": "code",
        "colab": {}
      },
      "source": [
        "les = LassoCV()"
      ],
      "execution_count": 0,
      "outputs": []
    },
    {
      "cell_type": "markdown",
      "metadata": {
        "id": "6qrdNtIfgG-F",
        "colab_type": "text"
      },
      "source": [
        "## FEATURE AND TARGETS"
      ]
    },
    {
      "cell_type": "code",
      "metadata": {
        "id": "quArqT5IgNX2",
        "colab_type": "code",
        "colab": {}
      },
      "source": [
        "target = data['tdecision']\n",
        "features_ = data.drop([\"tdecision\",\"Booking\",\"Booking_Amt\"],axis=1)"
      ],
      "execution_count": 0,
      "outputs": []
    },
    {
      "cell_type": "code",
      "metadata": {
        "id": "9e_Bw4amgNf1",
        "colab_type": "code",
        "colab": {}
      },
      "source": [
        "features_enc1 = pd.get_dummies(features_['gender'],drop_first=True,prefix='gender')\n",
        "features_enc2 = pd.get_dummies(features_['empstaus'],drop_first=True,prefix='empstaus')\n",
        "features_enc3 = pd.get_dummies(features_['ExCus (Customer in Past)'],drop_first=True, prefix='ExCus')\n",
        "features_enc4 = pd.get_dummies(features_['Source'],drop_first=True,prefix='Source')\n",
        "\n",
        "features = pd.concat([features_,features_enc1,features_enc2,features_enc3,features_enc4],axis=1)\n",
        "features = features.drop(['gender','empstaus','ExCus (Customer in Past)','Source'],axis=1)"
      ],
      "execution_count": 0,
      "outputs": []
    },
    {
      "cell_type": "code",
      "metadata": {
        "id": "EQt30qSOgY0V",
        "colab_type": "code",
        "colab": {}
      },
      "source": [
        "#features"
      ],
      "execution_count": 0,
      "outputs": []
    },
    {
      "cell_type": "markdown",
      "metadata": {
        "id": "UWalN1i3ffh1",
        "colab_type": "text"
      },
      "source": [
        "# MODELLING\n"
      ]
    },
    {
      "cell_type": "code",
      "metadata": {
        "id": "EowmSCUsfqHM",
        "colab_type": "code",
        "colab": {}
      },
      "source": [
        "from sklearn.model_selection import cross_val_score,train_test_split\n",
        "from sklearn.metrics import classification_report,accuracy_score"
      ],
      "execution_count": 0,
      "outputs": []
    },
    {
      "cell_type": "code",
      "metadata": {
        "id": "-6N2l9TWfhrL",
        "colab_type": "code",
        "colab": {}
      },
      "source": [
        "from sklearn.ensemble import RandomForestClassifier"
      ],
      "execution_count": 0,
      "outputs": []
    },
    {
      "cell_type": "code",
      "metadata": {
        "id": "2wLHqV4Jfvi6",
        "colab_type": "code",
        "colab": {}
      },
      "source": [
        "rfc = RandomForestClassifier(n_estimators=300,random_state=3)"
      ],
      "execution_count": 0,
      "outputs": []
    },
    {
      "cell_type": "code",
      "metadata": {
        "id": "TUVqTpBWfzXi",
        "colab_type": "code",
        "colab": {}
      },
      "source": [
        "scores = cross_val_score(rfc,features,target,cv=5)"
      ],
      "execution_count": 0,
      "outputs": []
    },
    {
      "cell_type": "code",
      "metadata": {
        "id": "aXYK3fBVjWZu",
        "colab_type": "code",
        "colab": {
          "base_uri": "https://localhost:8080/",
          "height": 0
        },
        "outputId": "44f3ddc7-3407-48bc-ceb1-d370b4de7f41"
      },
      "source": [
        "print(\"Cross Validation Scores: {}\".format(list(map(lambda x: round(x*100,2),scores))))"
      ],
      "execution_count": 795,
      "outputs": [
        {
          "output_type": "stream",
          "text": [
            "Cross Validation Scores: [98.91, 98.91, 98.9, 99.45, 98.35]\n"
          ],
          "name": "stdout"
        }
      ]
    },
    {
      "cell_type": "code",
      "metadata": {
        "id": "37fRzZAvVKqo",
        "colab_type": "code",
        "colab": {
          "base_uri": "https://localhost:8080/",
          "height": 0
        },
        "outputId": "c19d6ffa-3a26-4dd4-ac3c-47ac51d0e145"
      },
      "source": [
        "print(\"Standard Deviation among Cross Validation Scores: {:.4f}\".format(scores.std()))"
      ],
      "execution_count": 796,
      "outputs": [
        {
          "output_type": "stream",
          "text": [
            "Standard Deviation among Cross Validation Scores: 0.0035\n"
          ],
          "name": "stdout"
        }
      ]
    },
    {
      "cell_type": "code",
      "metadata": {
        "id": "Aj4hp1vTjYmj",
        "colab_type": "code",
        "colab": {
          "base_uri": "https://localhost:8080/",
          "height": 0
        },
        "outputId": "de8cbb5e-780e-48c8-d0d7-717131bf160d"
      },
      "source": [
        "print(\"Maximum Accuracy obtained: {:.2f}%\".format(max(scores)*100))"
      ],
      "execution_count": 797,
      "outputs": [
        {
          "output_type": "stream",
          "text": [
            "Maximum Accuracy obtained: 99.45%\n"
          ],
          "name": "stdout"
        }
      ]
    },
    {
      "cell_type": "markdown",
      "metadata": {
        "id": "D0P4Rab7WeSG",
        "colab_type": "text"
      },
      "source": [
        "# PREDICTION ON THE PENDING STATUS (RANDOM FOREST CLASSIFIER MODEL)"
      ]
    },
    {
      "cell_type": "code",
      "metadata": {
        "id": "nxIKTi95nWae",
        "colab_type": "code",
        "colab": {}
      },
      "source": [
        "pending_features_ = pending_cases.drop([\"tdecision\",\"Booking\",\"Booking_Amt\"],axis=1)"
      ],
      "execution_count": 0,
      "outputs": []
    },
    {
      "cell_type": "code",
      "metadata": {
        "id": "Df4NMq4BoEaV",
        "colab_type": "code",
        "colab": {}
      },
      "source": [
        "pfeatures_enc1 = pd.get_dummies(pending_features_['gender'],drop_first=True,prefix='gender')\n",
        "pfeatures_enc2 = pd.get_dummies(pending_features_['empstaus'],drop_first=True,prefix='empstaus')\n",
        "pfeatures_enc3 = pd.get_dummies(pending_features_['ExCus (Customer in Past)'],drop_first=True, prefix='ExCus')\n",
        "pfeatures_enc4 = pd.get_dummies(pending_features_['Source'],prefix='Source')\n",
        "\n",
        "pending_features = pd.concat([pending_features_,pfeatures_enc1,pfeatures_enc2,pfeatures_enc3,pfeatures_enc4],axis=1)\n",
        "pending_features = pending_features.drop(['gender','empstaus','ExCus (Customer in Past)','Source'],axis=1)"
      ],
      "execution_count": 0,
      "outputs": []
    },
    {
      "cell_type": "code",
      "metadata": {
        "id": "9RB9zDZDue0M",
        "colab_type": "code",
        "colab": {}
      },
      "source": [
        ""
      ],
      "execution_count": 0,
      "outputs": []
    },
    {
      "cell_type": "code",
      "metadata": {
        "id": "ppx_D222snl6",
        "colab_type": "code",
        "colab": {}
      },
      "source": [
        "rfc1= RandomForestClassifier(n_estimators=300,random_state=3)"
      ],
      "execution_count": 0,
      "outputs": []
    },
    {
      "cell_type": "code",
      "metadata": {
        "id": "Fep965yCtcFh",
        "colab_type": "code",
        "colab": {
          "base_uri": "https://localhost:8080/",
          "height": 67
        },
        "outputId": "b3f4e29e-7ea5-46eb-caa9-512ae97796be"
      },
      "source": [
        "pending_features.columns"
      ],
      "execution_count": 801,
      "outputs": [
        {
          "output_type": "execute_result",
          "data": {
            "text/plain": [
              "Index(['age', 'Salary', 'ExDebt (Liability)', 'gender_Male', 'empstaus_SE',\n",
              "       'ExCus_Y', 'Source_EC'],\n",
              "      dtype='object')"
            ]
          },
          "metadata": {
            "tags": []
          },
          "execution_count": 801
        }
      ]
    },
    {
      "cell_type": "code",
      "metadata": {
        "id": "lSfRxsG7tchg",
        "colab_type": "code",
        "colab": {}
      },
      "source": [
        "features1 = features[['age', 'Salary', 'ExDebt (Liability)', 'gender_Male', 'empstaus_SE','ExCus_Y','Source_EC']]"
      ],
      "execution_count": 0,
      "outputs": []
    },
    {
      "cell_type": "code",
      "metadata": {
        "id": "nspYjibQssHA",
        "colab_type": "code",
        "colab": {
          "base_uri": "https://localhost:8080/",
          "height": 151
        },
        "outputId": "890a8d78-7582-4246-88ea-568bf6981d3f"
      },
      "source": [
        "rfc1.fit(features1,target)"
      ],
      "execution_count": 803,
      "outputs": [
        {
          "output_type": "execute_result",
          "data": {
            "text/plain": [
              "RandomForestClassifier(bootstrap=True, ccp_alpha=0.0, class_weight=None,\n",
              "                       criterion='gini', max_depth=None, max_features='auto',\n",
              "                       max_leaf_nodes=None, max_samples=None,\n",
              "                       min_impurity_decrease=0.0, min_impurity_split=None,\n",
              "                       min_samples_leaf=1, min_samples_split=2,\n",
              "                       min_weight_fraction_leaf=0.0, n_estimators=300,\n",
              "                       n_jobs=None, oob_score=False, random_state=3, verbose=0,\n",
              "                       warm_start=False)"
            ]
          },
          "metadata": {
            "tags": []
          },
          "execution_count": 803
        }
      ]
    },
    {
      "cell_type": "code",
      "metadata": {
        "id": "Q0-bFpvlrphq",
        "colab_type": "code",
        "colab": {}
      },
      "source": [
        "y_pred = rfc1.predict(pending_features)"
      ],
      "execution_count": 0,
      "outputs": []
    },
    {
      "cell_type": "code",
      "metadata": {
        "id": "13VudKt2r_Xo",
        "colab_type": "code",
        "colab": {}
      },
      "source": [
        "prediction = pending_features.copy()"
      ],
      "execution_count": 0,
      "outputs": []
    },
    {
      "cell_type": "code",
      "metadata": {
        "id": "uN12OS7ss8Mu",
        "colab_type": "code",
        "colab": {}
      },
      "source": [
        "prediction['Prediction_tdecision'] = y_pred"
      ],
      "execution_count": 0,
      "outputs": []
    },
    {
      "cell_type": "code",
      "metadata": {
        "id": "skJYI1OfuLCH",
        "colab_type": "code",
        "colab": {
          "base_uri": "https://localhost:8080/",
          "height": 67
        },
        "outputId": "fbd7f89a-f596-4d06-a370-46042092c73f"
      },
      "source": [
        "prediction.Prediction_tdecision.value_counts()"
      ],
      "execution_count": 807,
      "outputs": [
        {
          "output_type": "execute_result",
          "data": {
            "text/plain": [
              "Approve    78\n",
              "Decline    10\n",
              "Name: Prediction_tdecision, dtype: int64"
            ]
          },
          "metadata": {
            "tags": []
          },
          "execution_count": 807
        }
      ]
    },
    {
      "cell_type": "code",
      "metadata": {
        "id": "tWurX8Z3uMb2",
        "colab_type": "code",
        "colab": {
          "base_uri": "https://localhost:8080/",
          "height": 402
        },
        "outputId": "d9ee9d12-e5f1-441e-c51a-a32ac0f1484d"
      },
      "source": [
        "prediction"
      ],
      "execution_count": 808,
      "outputs": [
        {
          "output_type": "execute_result",
          "data": {
            "text/html": [
              "<div>\n",
              "<style scoped>\n",
              "    .dataframe tbody tr th:only-of-type {\n",
              "        vertical-align: middle;\n",
              "    }\n",
              "\n",
              "    .dataframe tbody tr th {\n",
              "        vertical-align: top;\n",
              "    }\n",
              "\n",
              "    .dataframe thead th {\n",
              "        text-align: right;\n",
              "    }\n",
              "</style>\n",
              "<table border=\"1\" class=\"dataframe\">\n",
              "  <thead>\n",
              "    <tr style=\"text-align: right;\">\n",
              "      <th></th>\n",
              "      <th>age</th>\n",
              "      <th>Salary</th>\n",
              "      <th>ExDebt (Liability)</th>\n",
              "      <th>gender_Male</th>\n",
              "      <th>empstaus_SE</th>\n",
              "      <th>ExCus_Y</th>\n",
              "      <th>Source_EC</th>\n",
              "      <th>Prediction_tdecision</th>\n",
              "    </tr>\n",
              "  </thead>\n",
              "  <tbody>\n",
              "    <tr>\n",
              "      <th>0</th>\n",
              "      <td>34</td>\n",
              "      <td>127110</td>\n",
              "      <td>25130</td>\n",
              "      <td>0</td>\n",
              "      <td>1</td>\n",
              "      <td>1</td>\n",
              "      <td>1</td>\n",
              "      <td>Approve</td>\n",
              "    </tr>\n",
              "    <tr>\n",
              "      <th>15</th>\n",
              "      <td>54</td>\n",
              "      <td>52946</td>\n",
              "      <td>27393</td>\n",
              "      <td>1</td>\n",
              "      <td>0</td>\n",
              "      <td>0</td>\n",
              "      <td>1</td>\n",
              "      <td>Decline</td>\n",
              "    </tr>\n",
              "    <tr>\n",
              "      <th>16</th>\n",
              "      <td>40</td>\n",
              "      <td>161836</td>\n",
              "      <td>24483</td>\n",
              "      <td>1</td>\n",
              "      <td>0</td>\n",
              "      <td>0</td>\n",
              "      <td>1</td>\n",
              "      <td>Approve</td>\n",
              "    </tr>\n",
              "    <tr>\n",
              "      <th>21</th>\n",
              "      <td>54</td>\n",
              "      <td>47101</td>\n",
              "      <td>26752</td>\n",
              "      <td>1</td>\n",
              "      <td>1</td>\n",
              "      <td>1</td>\n",
              "      <td>1</td>\n",
              "      <td>Approve</td>\n",
              "    </tr>\n",
              "    <tr>\n",
              "      <th>30</th>\n",
              "      <td>35</td>\n",
              "      <td>65244</td>\n",
              "      <td>27013</td>\n",
              "      <td>0</td>\n",
              "      <td>0</td>\n",
              "      <td>1</td>\n",
              "      <td>1</td>\n",
              "      <td>Approve</td>\n",
              "    </tr>\n",
              "    <tr>\n",
              "      <th>...</th>\n",
              "      <td>...</td>\n",
              "      <td>...</td>\n",
              "      <td>...</td>\n",
              "      <td>...</td>\n",
              "      <td>...</td>\n",
              "      <td>...</td>\n",
              "      <td>...</td>\n",
              "      <td>...</td>\n",
              "    </tr>\n",
              "    <tr>\n",
              "      <th>937</th>\n",
              "      <td>27</td>\n",
              "      <td>33165</td>\n",
              "      <td>21423</td>\n",
              "      <td>0</td>\n",
              "      <td>0</td>\n",
              "      <td>0</td>\n",
              "      <td>1</td>\n",
              "      <td>Approve</td>\n",
              "    </tr>\n",
              "    <tr>\n",
              "      <th>952</th>\n",
              "      <td>42</td>\n",
              "      <td>116618</td>\n",
              "      <td>26211</td>\n",
              "      <td>0</td>\n",
              "      <td>1</td>\n",
              "      <td>1</td>\n",
              "      <td>1</td>\n",
              "      <td>Approve</td>\n",
              "    </tr>\n",
              "    <tr>\n",
              "      <th>995</th>\n",
              "      <td>28</td>\n",
              "      <td>120892</td>\n",
              "      <td>26779</td>\n",
              "      <td>0</td>\n",
              "      <td>0</td>\n",
              "      <td>1</td>\n",
              "      <td>1</td>\n",
              "      <td>Approve</td>\n",
              "    </tr>\n",
              "    <tr>\n",
              "      <th>997</th>\n",
              "      <td>42</td>\n",
              "      <td>33380</td>\n",
              "      <td>29547</td>\n",
              "      <td>1</td>\n",
              "      <td>1</td>\n",
              "      <td>0</td>\n",
              "      <td>1</td>\n",
              "      <td>Approve</td>\n",
              "    </tr>\n",
              "    <tr>\n",
              "      <th>998</th>\n",
              "      <td>35</td>\n",
              "      <td>101142</td>\n",
              "      <td>23359</td>\n",
              "      <td>0</td>\n",
              "      <td>1</td>\n",
              "      <td>1</td>\n",
              "      <td>1</td>\n",
              "      <td>Approve</td>\n",
              "    </tr>\n",
              "  </tbody>\n",
              "</table>\n",
              "<p>88 rows × 8 columns</p>\n",
              "</div>"
            ],
            "text/plain": [
              "     age  Salary  ExDebt (Liability)  ...  ExCus_Y  Source_EC  Prediction_tdecision\n",
              "0     34  127110               25130  ...        1          1               Approve\n",
              "15    54   52946               27393  ...        0          1               Decline\n",
              "16    40  161836               24483  ...        0          1               Approve\n",
              "21    54   47101               26752  ...        1          1               Approve\n",
              "30    35   65244               27013  ...        1          1               Approve\n",
              "..   ...     ...                 ...  ...      ...        ...                   ...\n",
              "937   27   33165               21423  ...        0          1               Approve\n",
              "952   42  116618               26211  ...        1          1               Approve\n",
              "995   28  120892               26779  ...        1          1               Approve\n",
              "997   42   33380               29547  ...        0          1               Approve\n",
              "998   35  101142               23359  ...        1          1               Approve\n",
              "\n",
              "[88 rows x 8 columns]"
            ]
          },
          "metadata": {
            "tags": []
          },
          "execution_count": 808
        }
      ]
    },
    {
      "cell_type": "code",
      "metadata": {
        "id": "DoJVygmeu4UP",
        "colab_type": "code",
        "colab": {}
      },
      "source": [
        "prediction_index = prediction.index.tolist()"
      ],
      "execution_count": 0,
      "outputs": []
    },
    {
      "cell_type": "code",
      "metadata": {
        "id": "nWdZSq4Kv0SJ",
        "colab_type": "code",
        "colab": {}
      },
      "source": [
        "predicted_dataset = orig_data.copy()"
      ],
      "execution_count": 0,
      "outputs": []
    },
    {
      "cell_type": "code",
      "metadata": {
        "id": "nznB2FdCv2xP",
        "colab_type": "code",
        "colab": {}
      },
      "source": [
        "for i in prediction_index:\n",
        "  predicted_dataset.loc[i,'tdecision'] = prediction.loc[i,'Prediction_tdecision']"
      ],
      "execution_count": 0,
      "outputs": []
    },
    {
      "cell_type": "code",
      "metadata": {
        "id": "JX7Lt5xKweUn",
        "colab_type": "code",
        "colab": {}
      },
      "source": [
        "predicted_dataset.to_excel(\"Predicted_tdecision_Dataset.xlsx\")"
      ],
      "execution_count": 0,
      "outputs": []
    },
    {
      "cell_type": "code",
      "metadata": {
        "id": "EbZ7LHRewf7H",
        "colab_type": "code",
        "colab": {}
      },
      "source": [
        ""
      ],
      "execution_count": 0,
      "outputs": []
    },
    {
      "cell_type": "markdown",
      "metadata": {
        "id": "mKtLdY9Mm4d9",
        "colab_type": "text"
      },
      "source": [
        "# Importance of Columns\n",
        "\n",
        "\n",
        "\n"
      ]
    },
    {
      "cell_type": "code",
      "metadata": {
        "id": "__3XO_IMesBB",
        "colab_type": "code",
        "colab": {
          "base_uri": "https://localhost:8080/",
          "height": 0
        },
        "outputId": "afd30ce9-a36d-4a75-8b37-0af98b4a1e2d"
      },
      "source": [
        "rfc2 = RandomForestClassifier(n_estimators=300,random_state=3)\n",
        "rfc2.fit(features, target)\n"
      ],
      "execution_count": 813,
      "outputs": [
        {
          "output_type": "execute_result",
          "data": {
            "text/plain": [
              "RandomForestClassifier(bootstrap=True, ccp_alpha=0.0, class_weight=None,\n",
              "                       criterion='gini', max_depth=None, max_features='auto',\n",
              "                       max_leaf_nodes=None, max_samples=None,\n",
              "                       min_impurity_decrease=0.0, min_impurity_split=None,\n",
              "                       min_samples_leaf=1, min_samples_split=2,\n",
              "                       min_weight_fraction_leaf=0.0, n_estimators=300,\n",
              "                       n_jobs=None, oob_score=False, random_state=3, verbose=0,\n",
              "                       warm_start=False)"
            ]
          },
          "metadata": {
            "tags": []
          },
          "execution_count": 813
        }
      ]
    },
    {
      "cell_type": "code",
      "metadata": {
        "id": "PaZLixvlnRMQ",
        "colab_type": "code",
        "colab": {
          "base_uri": "https://localhost:8080/",
          "height": 0
        },
        "outputId": "f5a45038-69e5-4793-cd28-1fe5d91af7c9"
      },
      "source": [
        "importances = pd.DataFrame({'feature':features.columns,'importance':np.round(rfc2.feature_importances_,3)})\n",
        "importances = importances.sort_values('importance',ascending=False).set_index('feature')\n",
        "importances"
      ],
      "execution_count": 814,
      "outputs": [
        {
          "output_type": "execute_result",
          "data": {
            "text/html": [
              "<div>\n",
              "<style scoped>\n",
              "    .dataframe tbody tr th:only-of-type {\n",
              "        vertical-align: middle;\n",
              "    }\n",
              "\n",
              "    .dataframe tbody tr th {\n",
              "        vertical-align: top;\n",
              "    }\n",
              "\n",
              "    .dataframe thead th {\n",
              "        text-align: right;\n",
              "    }\n",
              "</style>\n",
              "<table border=\"1\" class=\"dataframe\">\n",
              "  <thead>\n",
              "    <tr style=\"text-align: right;\">\n",
              "      <th></th>\n",
              "      <th>importance</th>\n",
              "    </tr>\n",
              "    <tr>\n",
              "      <th>feature</th>\n",
              "      <th></th>\n",
              "    </tr>\n",
              "  </thead>\n",
              "  <tbody>\n",
              "    <tr>\n",
              "      <th>Salary</th>\n",
              "      <td>0.852</td>\n",
              "    </tr>\n",
              "    <tr>\n",
              "      <th>age</th>\n",
              "      <td>0.054</td>\n",
              "    </tr>\n",
              "    <tr>\n",
              "      <th>ExDebt (Liability)</th>\n",
              "      <td>0.047</td>\n",
              "    </tr>\n",
              "    <tr>\n",
              "      <th>Source_EC</th>\n",
              "      <td>0.030</td>\n",
              "    </tr>\n",
              "    <tr>\n",
              "      <th>ExCus_Y</th>\n",
              "      <td>0.004</td>\n",
              "    </tr>\n",
              "    <tr>\n",
              "      <th>Source_MP</th>\n",
              "      <td>0.004</td>\n",
              "    </tr>\n",
              "    <tr>\n",
              "      <th>gender_Male</th>\n",
              "      <td>0.003</td>\n",
              "    </tr>\n",
              "    <tr>\n",
              "      <th>empstaus_SE</th>\n",
              "      <td>0.003</td>\n",
              "    </tr>\n",
              "    <tr>\n",
              "      <th>Source_D</th>\n",
              "      <td>0.003</td>\n",
              "    </tr>\n",
              "  </tbody>\n",
              "</table>\n",
              "</div>"
            ],
            "text/plain": [
              "                    importance\n",
              "feature                       \n",
              "Salary                   0.852\n",
              "age                      0.054\n",
              "ExDebt (Liability)       0.047\n",
              "Source_EC                0.030\n",
              "ExCus_Y                  0.004\n",
              "Source_MP                0.004\n",
              "gender_Male              0.003\n",
              "empstaus_SE              0.003\n",
              "Source_D                 0.003"
            ]
          },
          "metadata": {
            "tags": []
          },
          "execution_count": 814
        }
      ]
    },
    {
      "cell_type": "code",
      "metadata": {
        "id": "ORp7CbgSnXtH",
        "colab_type": "code",
        "colab": {
          "base_uri": "https://localhost:8080/",
          "height": 0
        },
        "outputId": "bdac1e19-c051-4df9-cbb6-c5abe398fb6b"
      },
      "source": [
        "f = plt.figure(figsize=(12,7))\n",
        "ax = f.add_subplot()\n",
        "importances.plot(kind='barh',ax = ax)\n",
        "plt.show()"
      ],
      "execution_count": 815,
      "outputs": [
        {
          "output_type": "display_data",
          "data": {
            "image/png": "[encoded data removed]",
            "text/plain": [
              "<Figure size 864x504 with 1 Axes>"
            ]
          },
          "metadata": {
            "tags": []
          }
        }
      ]
    },
    {
      "cell_type": "code",
      "metadata": {
        "id": "YEUFfTEhnk3_",
        "colab_type": "code",
        "colab": {}
      },
      "source": [
        ""
      ],
      "execution_count": 0,
      "outputs": []
    },
    {
      "cell_type": "markdown",
      "metadata": {
        "id": "g4WbvGQTotqs",
        "colab_type": "text"
      },
      "source": [
        "# Operation on Important columns\n"
      ]
    },
    {
      "cell_type": "code",
      "metadata": {
        "id": "NeM77QZNo0Ja",
        "colab_type": "code",
        "colab": {}
      },
      "source": [
        "new_features_ = features[['Salary','age','ExDebt (Liability)','Source_EC']]"
      ],
      "execution_count": 0,
      "outputs": []
    },
    {
      "cell_type": "code",
      "metadata": {
        "id": "YVrvpHw4o_vv",
        "colab_type": "code",
        "colab": {}
      },
      "source": [
        "convert = {\"Approve\": 1, \"Decline\":0}\n",
        "new_target = target.map(convert)"
      ],
      "execution_count": 0,
      "outputs": []
    },
    {
      "cell_type": "code",
      "metadata": {
        "id": "TcpuHBgDqVau",
        "colab_type": "code",
        "colab": {}
      },
      "source": [
        "x_train,x_test,y_train,y_test = train_test_split(new_features_,np.array(new_target),test_size=0.3,random_state=3)"
      ],
      "execution_count": 0,
      "outputs": []
    },
    {
      "cell_type": "code",
      "metadata": {
        "id": "MsCXvRVMp1z_",
        "colab_type": "code",
        "colab": {}
      },
      "source": [
        "from sklearn.tree import DecisionTreeClassifier"
      ],
      "execution_count": 0,
      "outputs": []
    },
    {
      "cell_type": "code",
      "metadata": {
        "id": "dLd5zATxqNMg",
        "colab_type": "code",
        "colab": {}
      },
      "source": [
        "clf = DecisionTreeClassifier()"
      ],
      "execution_count": 0,
      "outputs": []
    },
    {
      "cell_type": "code",
      "metadata": {
        "id": "mwbz62M8qQ-I",
        "colab_type": "code",
        "colab": {
          "base_uri": "https://localhost:8080/",
          "height": 118
        },
        "outputId": "9d3cacbc-aa33-4440-fb18-6bcab8762df7"
      },
      "source": [
        "clf.fit(x_train,y_train)"
      ],
      "execution_count": 821,
      "outputs": [
        {
          "output_type": "execute_result",
          "data": {
            "text/plain": [
              "DecisionTreeClassifier(ccp_alpha=0.0, class_weight=None, criterion='gini',\n",
              "                       max_depth=None, max_features=None, max_leaf_nodes=None,\n",
              "                       min_impurity_decrease=0.0, min_impurity_split=None,\n",
              "                       min_samples_leaf=1, min_samples_split=2,\n",
              "                       min_weight_fraction_leaf=0.0, presort='deprecated',\n",
              "                       random_state=None, splitter='best')"
            ]
          },
          "metadata": {
            "tags": []
          },
          "execution_count": 821
        }
      ]
    },
    {
      "cell_type": "code",
      "metadata": {
        "id": "I9nFbjnxq1Mo",
        "colab_type": "code",
        "colab": {}
      },
      "source": [
        "y_pred_ = clf.predict(x_test)"
      ],
      "execution_count": 0,
      "outputs": []
    },
    {
      "cell_type": "code",
      "metadata": {
        "id": "yyqnIgsYrzkR",
        "colab_type": "code",
        "colab": {
          "base_uri": "https://localhost:8080/",
          "height": 168
        },
        "outputId": "0cb03ae1-fff8-490b-d7df-3f8ff41c1e4f"
      },
      "source": [
        "print(classification_report(y_pred_,y_test,target_names=[\"Approve\",\"Decline\"]))"
      ],
      "execution_count": 823,
      "outputs": [
        {
          "output_type": "stream",
          "text": [
            "              precision    recall  f1-score   support\n",
            "\n",
            "     Approve       0.98      1.00      0.99        57\n",
            "     Decline       1.00      1.00      1.00       217\n",
            "\n",
            "    accuracy                           1.00       274\n",
            "   macro avg       0.99      1.00      0.99       274\n",
            "weighted avg       1.00      1.00      1.00       274\n",
            "\n"
          ],
          "name": "stdout"
        }
      ]
    },
    {
      "cell_type": "code",
      "metadata": {
        "id": "JoAXPiPqr6qA",
        "colab_type": "code",
        "colab": {}
      },
      "source": [
        "clf_rep = classification_report(y_pred_,y_test,output_dict=True)"
      ],
      "execution_count": 0,
      "outputs": []
    },
    {
      "cell_type": "code",
      "metadata": {
        "id": "lJlmYoxVtGsb",
        "colab_type": "code",
        "colab": {}
      },
      "source": [
        "report = pd.DataFrame(clf_rep).transpose()"
      ],
      "execution_count": 0,
      "outputs": []
    },
    {
      "cell_type": "code",
      "metadata": {
        "id": "ZHBSq4ortgw4",
        "colab_type": "code",
        "colab": {}
      },
      "source": [
        "report = report.rename({\"1\":\"Approve\", \"0\":\"Decline\"})"
      ],
      "execution_count": 0,
      "outputs": []
    },
    {
      "cell_type": "code",
      "metadata": {
        "id": "_YXHkeMcth1Q",
        "colab_type": "code",
        "colab": {
          "base_uri": "https://localhost:8080/",
          "height": 195
        },
        "outputId": "b40ea09b-978f-4acc-e770-154c1c4d5575"
      },
      "source": [
        "report"
      ],
      "execution_count": 827,
      "outputs": [
        {
          "output_type": "execute_result",
          "data": {
            "text/html": [
              "<div>\n",
              "<style scoped>\n",
              "    .dataframe tbody tr th:only-of-type {\n",
              "        vertical-align: middle;\n",
              "    }\n",
              "\n",
              "    .dataframe tbody tr th {\n",
              "        vertical-align: top;\n",
              "    }\n",
              "\n",
              "    .dataframe thead th {\n",
              "        text-align: right;\n",
              "    }\n",
              "</style>\n",
              "<table border=\"1\" class=\"dataframe\">\n",
              "  <thead>\n",
              "    <tr style=\"text-align: right;\">\n",
              "      <th></th>\n",
              "      <th>precision</th>\n",
              "      <th>recall</th>\n",
              "      <th>f1-score</th>\n",
              "      <th>support</th>\n",
              "    </tr>\n",
              "  </thead>\n",
              "  <tbody>\n",
              "    <tr>\n",
              "      <th>Decline</th>\n",
              "      <td>0.982759</td>\n",
              "      <td>1.000000</td>\n",
              "      <td>0.991304</td>\n",
              "      <td>57.00000</td>\n",
              "    </tr>\n",
              "    <tr>\n",
              "      <th>Approve</th>\n",
              "      <td>1.000000</td>\n",
              "      <td>0.995392</td>\n",
              "      <td>0.997691</td>\n",
              "      <td>217.00000</td>\n",
              "    </tr>\n",
              "    <tr>\n",
              "      <th>accuracy</th>\n",
              "      <td>0.996350</td>\n",
              "      <td>0.996350</td>\n",
              "      <td>0.996350</td>\n",
              "      <td>0.99635</td>\n",
              "    </tr>\n",
              "    <tr>\n",
              "      <th>macro avg</th>\n",
              "      <td>0.991379</td>\n",
              "      <td>0.997696</td>\n",
              "      <td>0.994497</td>\n",
              "      <td>274.00000</td>\n",
              "    </tr>\n",
              "    <tr>\n",
              "      <th>weighted avg</th>\n",
              "      <td>0.996413</td>\n",
              "      <td>0.996350</td>\n",
              "      <td>0.996362</td>\n",
              "      <td>274.00000</td>\n",
              "    </tr>\n",
              "  </tbody>\n",
              "</table>\n",
              "</div>"
            ],
            "text/plain": [
              "              precision    recall  f1-score    support\n",
              "Decline        0.982759  1.000000  0.991304   57.00000\n",
              "Approve        1.000000  0.995392  0.997691  217.00000\n",
              "accuracy       0.996350  0.996350  0.996350    0.99635\n",
              "macro avg      0.991379  0.997696  0.994497  274.00000\n",
              "weighted avg   0.996413  0.996350  0.996362  274.00000"
            ]
          },
          "metadata": {
            "tags": []
          },
          "execution_count": 827
        }
      ]
    },
    {
      "cell_type": "markdown",
      "metadata": {
        "id": "tRFi1VJTD5aX",
        "colab_type": "text"
      },
      "source": [
        "# PREDICTION ON PENDING CLASS (DECISION TREE CLASSIFIER MODEL)"
      ]
    },
    {
      "cell_type": "code",
      "metadata": {
        "id": "oxplKbuouWjB",
        "colab_type": "code",
        "colab": {}
      },
      "source": [
        "pending_pred = clf.predict(pending_features[['Salary','age','ExDebt (Liability)','Source_EC']])"
      ],
      "execution_count": 0,
      "outputs": []
    },
    {
      "cell_type": "code",
      "metadata": {
        "id": "qi4vgQYgF6ti",
        "colab_type": "code",
        "colab": {}
      },
      "source": [
        "def conv_(x):\n",
        "  if(x==1):\n",
        "    return \"Approve\"\n",
        "  return \"Decline\""
      ],
      "execution_count": 0,
      "outputs": []
    },
    {
      "cell_type": "code",
      "metadata": {
        "id": "YiXZ17RyEnEW",
        "colab_type": "code",
        "colab": {}
      },
      "source": [
        "outcome = list(map(conv_,pending_pred))"
      ],
      "execution_count": 0,
      "outputs": []
    },
    {
      "cell_type": "code",
      "metadata": {
        "id": "OYtf6FTyE1Y6",
        "colab_type": "code",
        "colab": {}
      },
      "source": [
        "dtc_predictions = pending_cases.copy()"
      ],
      "execution_count": 0,
      "outputs": []
    },
    {
      "cell_type": "code",
      "metadata": {
        "id": "JRk9kv0TGhH7",
        "colab_type": "code",
        "colab": {}
      },
      "source": [
        "dtc_predictions['tdecision'] = outcome"
      ],
      "execution_count": 0,
      "outputs": []
    },
    {
      "cell_type": "code",
      "metadata": {
        "id": "kHjfJe5YIY5e",
        "colab_type": "code",
        "colab": {}
      },
      "source": [
        "dtc_predictions.to_excel(\"Predictions_using_Decision_Tree_Classifier.xlsx\")"
      ],
      "execution_count": 0,
      "outputs": []
    },
    {
      "cell_type": "code",
      "metadata": {
        "id": "0pHbSIFnIqjz",
        "colab_type": "code",
        "colab": {
          "base_uri": "https://localhost:8080/",
          "height": 67
        },
        "outputId": "7af811aa-9b4a-4ee3-b46e-aa10e085554c"
      },
      "source": [
        "dtc_predictions.tdecision.value_counts()"
      ],
      "execution_count": 834,
      "outputs": [
        {
          "output_type": "execute_result",
          "data": {
            "text/plain": [
              "Decline    87\n",
              "Approve     1\n",
              "Name: tdecision, dtype: int64"
            ]
          },
          "metadata": {
            "tags": []
          },
          "execution_count": 834
        }
      ]
    },
    {
      "cell_type": "code",
      "metadata": {
        "id": "mw4ZZecsam4J",
        "colab_type": "code",
        "colab": {}
      },
      "source": [
        ""
      ],
      "execution_count": 0,
      "outputs": []
    },
    {
      "cell_type": "markdown",
      "metadata": {
        "id": "uFMpQGMxf4ET",
        "colab_type": "text"
      },
      "source": [
        "# METRICS CALCULATION"
      ]
    },
    {
      "cell_type": "code",
      "metadata": {
        "id": "Uh-U-SlugM8W",
        "colab_type": "code",
        "colab": {
          "base_uri": "https://localhost:8080/",
          "height": 618
        },
        "outputId": "63d4a7e9-e10b-4299-f60a-a138cbfc0d4d"
      },
      "source": [
        "orig_data.head()"
      ],
      "execution_count": 835,
      "outputs": [
        {
          "output_type": "execute_result",
          "data": {
            "text/html": [
              "<div>\n",
              "<style scoped>\n",
              "    .dataframe tbody tr th:only-of-type {\n",
              "        vertical-align: middle;\n",
              "    }\n",
              "\n",
              "    .dataframe tbody tr th {\n",
              "        vertical-align: top;\n",
              "    }\n",
              "\n",
              "    .dataframe thead th {\n",
              "        text-align: right;\n",
              "    }\n",
              "</style>\n",
              "<table border=\"1\" class=\"dataframe\">\n",
              "  <thead>\n",
              "    <tr style=\"text-align: right;\">\n",
              "      <th></th>\n",
              "      <th>Application id</th>\n",
              "      <th>first_name</th>\n",
              "      <th>last_name</th>\n",
              "      <th>email</th>\n",
              "      <th>gender</th>\n",
              "      <th>address</th>\n",
              "      <th>age</th>\n",
              "      <th>tdecision</th>\n",
              "      <th>empstaus</th>\n",
              "      <th>ExCus (Customer in Past)</th>\n",
              "      <th>Source</th>\n",
              "      <th>Salary</th>\n",
              "      <th>ExDebt (Liability)</th>\n",
              "      <th>Booking</th>\n",
              "      <th>INT_ID</th>\n",
              "      <th>Prev_ID</th>\n",
              "      <th>AGT_ID</th>\n",
              "      <th>Booking_Amt</th>\n",
              "    </tr>\n",
              "  </thead>\n",
              "  <tbody>\n",
              "    <tr>\n",
              "      <th>0</th>\n",
              "      <td>1</td>\n",
              "      <td>Dollie</td>\n",
              "      <td>Scafe</td>\n",
              "      <td>dscafe0@is.gd</td>\n",
              "      <td>Female</td>\n",
              "      <td>02 Garrison Pass</td>\n",
              "      <td>34</td>\n",
              "      <td>Pending</td>\n",
              "      <td>SE</td>\n",
              "      <td>Y</td>\n",
              "      <td>EC</td>\n",
              "      <td>127110</td>\n",
              "      <td>25130</td>\n",
              "      <td>NaN</td>\n",
              "      <td>6869736235</td>\n",
              "      <td>79-489-1539</td>\n",
              "      <td>Mozilla/5.0 (Macintosh; U; Intel Mac OS X 10_6...</td>\n",
              "      <td>NaN</td>\n",
              "    </tr>\n",
              "    <tr>\n",
              "      <th>1</th>\n",
              "      <td>2</td>\n",
              "      <td>Austin</td>\n",
              "      <td>Pennycook</td>\n",
              "      <td>apennycook1@mac.com</td>\n",
              "      <td>Male</td>\n",
              "      <td>007 Miller Road</td>\n",
              "      <td>57</td>\n",
              "      <td>Approve</td>\n",
              "      <td>SE</td>\n",
              "      <td>Y</td>\n",
              "      <td>D</td>\n",
              "      <td>464039</td>\n",
              "      <td>22311</td>\n",
              "      <td>Y</td>\n",
              "      <td>9694176212</td>\n",
              "      <td>92-247-0058</td>\n",
              "      <td>Mozilla/5.0 (Windows; U; Windows NT 5.1; zh-TW...</td>\n",
              "      <td>278423.4</td>\n",
              "    </tr>\n",
              "    <tr>\n",
              "      <th>2</th>\n",
              "      <td>3</td>\n",
              "      <td>Mareah</td>\n",
              "      <td>Tomanek</td>\n",
              "      <td>mtomanek2@bloomberg.com</td>\n",
              "      <td>Female</td>\n",
              "      <td>145 Charing Cross Junction</td>\n",
              "      <td>57</td>\n",
              "      <td>Approve</td>\n",
              "      <td>SE</td>\n",
              "      <td>Y</td>\n",
              "      <td>3P</td>\n",
              "      <td>584420</td>\n",
              "      <td>28557</td>\n",
              "      <td>Y</td>\n",
              "      <td>152387684</td>\n",
              "      <td>36-236-3028</td>\n",
              "      <td>Mozilla/5.0 (Windows NT 5.1; rv:21.0) Gecko/20...</td>\n",
              "      <td>350652.0</td>\n",
              "    </tr>\n",
              "    <tr>\n",
              "      <th>3</th>\n",
              "      <td>4</td>\n",
              "      <td>Myrna</td>\n",
              "      <td>Rosenthaler</td>\n",
              "      <td>mrosenthaler3@dmoz.org</td>\n",
              "      <td>Female</td>\n",
              "      <td>268 Algoma Hill</td>\n",
              "      <td>59</td>\n",
              "      <td>Approve</td>\n",
              "      <td>SE</td>\n",
              "      <td>Y</td>\n",
              "      <td>3P</td>\n",
              "      <td>583781</td>\n",
              "      <td>26042</td>\n",
              "      <td>Y</td>\n",
              "      <td>6510396556</td>\n",
              "      <td>34-339-0917</td>\n",
              "      <td>Mozilla/5.0 (Windows; U; Windows NT 6.1; cs-CZ...</td>\n",
              "      <td>350268.6</td>\n",
              "    </tr>\n",
              "    <tr>\n",
              "      <th>4</th>\n",
              "      <td>5</td>\n",
              "      <td>Danyette</td>\n",
              "      <td>Stempe</td>\n",
              "      <td>dstempe4@tumblr.com</td>\n",
              "      <td>Female</td>\n",
              "      <td>571 Stone Corner Park</td>\n",
              "      <td>51</td>\n",
              "      <td>Approve</td>\n",
              "      <td>SE</td>\n",
              "      <td>N</td>\n",
              "      <td>MP</td>\n",
              "      <td>551718</td>\n",
              "      <td>27892</td>\n",
              "      <td>Y</td>\n",
              "      <td>7141853006</td>\n",
              "      <td>94-098-8902</td>\n",
              "      <td>Mozilla/5.0 (iPhone; U; CPU iPhone OS 4_2_1 li...</td>\n",
              "      <td>331030.8</td>\n",
              "    </tr>\n",
              "  </tbody>\n",
              "</table>\n",
              "</div>"
            ],
            "text/plain": [
              "   Application id  ... Booking_Amt\n",
              "0               1  ...         NaN\n",
              "1               2  ...    278423.4\n",
              "2               3  ...    350652.0\n",
              "3               4  ...    350268.6\n",
              "4               5  ...    331030.8\n",
              "\n",
              "[5 rows x 18 columns]"
            ]
          },
          "metadata": {
            "tags": []
          },
          "execution_count": 835
        }
      ]
    },
    {
      "cell_type": "code",
      "metadata": {
        "id": "uD8qcL3Kf9Wv",
        "colab_type": "code",
        "colab": {}
      },
      "source": [
        "total_applications = len(orig_data[\"Application id\"])"
      ],
      "execution_count": 0,
      "outputs": []
    },
    {
      "cell_type": "code",
      "metadata": {
        "id": "2rN1qgh-gVUY",
        "colab_type": "code",
        "colab": {}
      },
      "source": [
        "approved_applications = len(orig_data[orig_data[\"tdecision\"]==\"Approve\"])"
      ],
      "execution_count": 0,
      "outputs": []
    },
    {
      "cell_type": "code",
      "metadata": {
        "id": "_-XIFKH6gn-B",
        "colab_type": "code",
        "colab": {}
      },
      "source": [
        "booked_applications = len(orig_data[orig_data[\"Booking\"]==\"Y\"])"
      ],
      "execution_count": 0,
      "outputs": []
    },
    {
      "cell_type": "code",
      "metadata": {
        "id": "BdeZvwFLg0lT",
        "colab_type": "code",
        "colab": {}
      },
      "source": [
        "approval_rate = approved_applications/total_applications"
      ],
      "execution_count": 0,
      "outputs": []
    },
    {
      "cell_type": "code",
      "metadata": {
        "id": "od6z0cOLg9bN",
        "colab_type": "code",
        "colab": {}
      },
      "source": [
        "booking_rate = booked_applications/approved_applications"
      ],
      "execution_count": 0,
      "outputs": []
    },
    {
      "cell_type": "code",
      "metadata": {
        "id": "nd-fZ6zvhK-A",
        "colab_type": "code",
        "colab": {}
      },
      "source": [
        "new_booking_amount = []\n",
        "current = 0\n",
        "for i in range(orig_data.shape[0]):\n",
        "  if(orig_data.loc[i,\"tdecision\"] == \"Approve\" and orig_data.loc[i,\"Booking\"] == \"Y\"):\n",
        "    current += orig_data.loc[i,\"Booking_Amt\"]\n",
        "  new_booking_amount.append(current)"
      ],
      "execution_count": 0,
      "outputs": []
    },
    {
      "cell_type": "code",
      "metadata": {
        "id": "pgTKJgToiA8p",
        "colab_type": "code",
        "colab": {}
      },
      "source": [
        "new_booking_amount = np.array(new_booking_amount)"
      ],
      "execution_count": 0,
      "outputs": []
    },
    {
      "cell_type": "code",
      "metadata": {
        "id": "6k9iL7zziLwB",
        "colab_type": "code",
        "colab": {}
      },
      "source": [
        "new_booking_amount_df = orig_data.copy()"
      ],
      "execution_count": 0,
      "outputs": []
    },
    {
      "cell_type": "code",
      "metadata": {
        "id": "_rCCDn9Pia94",
        "colab_type": "code",
        "colab": {}
      },
      "source": [
        "new_booking_amount_df[\"New_Booking_Amt\"] = new_booking_amount"
      ],
      "execution_count": 0,
      "outputs": []
    },
    {
      "cell_type": "code",
      "metadata": {
        "id": "rnzg95zXihLg",
        "colab_type": "code",
        "colab": {}
      },
      "source": [
        "new_booking_amount_df.to_excel(\"Data_with_New_Booking_Amount.xlsx\")"
      ],
      "execution_count": 0,
      "outputs": []
    },
    {
      "cell_type": "code",
      "metadata": {
        "id": "FhrZBM1liooR",
        "colab_type": "code",
        "colab": {
          "base_uri": "https://localhost:8080/",
          "height": 101
        },
        "outputId": "9bc2f6dc-a90c-496b-84b8-9cabf479406c"
      },
      "source": [
        "print(\"Total Applications: {}\".format(total_applications))\n",
        "print(\"Approved Applications: {}\".format(approved_applications))\n",
        "print(\"Booked Applications: {}\".format(booked_applications))\n",
        "print(\"Approval Rate: {}\".format(apprioval_rate))\n",
        "print(\"Booking Rate: {:.3f}\".format(booking_rate))"
      ],
      "execution_count": 846,
      "outputs": [
        {
          "output_type": "stream",
          "text": [
            "Total Applications: 1000\n",
            "Approved Applications: 699\n",
            "Booked Applications: 581\n",
            "Approval Rate: 0.699\n",
            "Booking Rate: 0.831\n"
          ],
          "name": "stdout"
        }
      ]
    },
    {
      "cell_type": "code",
      "metadata": {
        "id": "YKNS3L40jZbT",
        "colab_type": "code",
        "colab": {}
      },
      "source": [
        ""
      ],
      "execution_count": 0,
      "outputs": []
    }
  ]
}